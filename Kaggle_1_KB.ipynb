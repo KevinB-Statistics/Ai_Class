{
 "cells": [
  {
   "cell_type": "code",
   "execution_count": 5,
   "id": "606b06d0",
   "metadata": {},
   "outputs": [],
   "source": [
    "# Import packages\n",
    "import pandas as pd\n",
    "import numpy as np\n",
    "import matplotlib.pyplot as plt\n",
    "from sklearn.linear_model import LinearRegression\n",
    "from sklearn.preprocessing import StandardScaler, PolynomialFeatures\n",
    "from sklearn.linear_model import ElasticNetCV\n",
    "from sklearn.pipeline import Pipeline\n",
    "from sklearn.compose import TransformedTargetRegressor\n",
    "from sklearn.model_selection import train_test_split\n",
    "from sklearn.metrics import r2_score, mean_absolute_error"
   ]
  },
  {
   "cell_type": "code",
   "execution_count": 6,
   "id": "34a835e6",
   "metadata": {},
   "outputs": [],
   "source": [
    "#import data\n",
    "medical_train = pd.read_csv(\"ML_Class/train.csv\")\n",
    "medical_test = pd.read_csv(\"ML_Class/test.csv\")"
   ]
  },
  {
   "cell_type": "code",
   "execution_count": 7,
   "id": "c51d86e6",
   "metadata": {},
   "outputs": [],
   "source": [
    "# encoding\n",
    "medical_train_encoded = pd.get_dummies(medical_train, columns=['sex', 'smoker', 'region'], drop_first=True)\n",
    "medical_test_encoded = pd.get_dummies(medical_test, columns=['sex', 'smoker', 'region'], drop_first=True)\n",
    "\n",
    "#targets and features\n",
    "y_train = medical_train_encoded[\"charges\"]\n",
    "x_train = medical_train_encoded.drop(columns=[\"charges\"])\n",
    "\n",
    "#aligning test to training columns\n",
    "x_test = medical_test_encoded.drop(\"ID\",axis=1)\n",
    "x_test = x_test.reindex(columns=x_test.columns, fill_value = 0)"
   ]
  },
  {
   "cell_type": "code",
   "execution_count": 8,
   "id": "7c92672a",
   "metadata": {},
   "outputs": [],
   "source": [
    "# 90% train and 10% test split\n",
    "training_features, test_features, training_outcomes, test_outcomes = train_test_split(x_train, y_train, test_size = 0.1)"
   ]
  },
  {
   "cell_type": "code",
   "execution_count": 9,
   "id": "ef8a74f5",
   "metadata": {},
   "outputs": [
    {
     "name": "stdout",
     "output_type": "stream",
     "text": [
      "R^2: 0.7530620870625273\n",
      "MAE: 4856.190020824738\n"
     ]
    }
   ],
   "source": [
    "############### OLS Model #################\n",
    "linear_regression_model = Pipeline([\n",
    "    (\"scale\", StandardScaler()),\n",
    "    (\"ols\", LinearRegression())\n",
    "])\n",
    "\n",
    "linear_regression_model.fit(training_features, training_outcomes)\n",
    "y_hat = linear_regression_model.predict(test_features)\n",
    "print(\"R^2:\", r2_score(test_outcomes, y_hat))\n",
    "print(\"MAE:\", mean_absolute_error(test_outcomes, y_hat))"
   ]
  },
  {
   "cell_type": "code",
   "execution_count": 10,
   "id": "56b80997",
   "metadata": {},
   "outputs": [
    {
     "name": "stdout",
     "output_type": "stream",
     "text": [
      "R^2: 0.8509080379729537\n",
      "MAE: 2928.523422015646\n"
     ]
    }
   ],
   "source": [
    "####### Polnomial with ElasticNet and Log-transform Model ########\n",
    "\n",
    "model = Pipeline([\n",
    "    (\"poly\", PolynomialFeatures(degree=2, include_bias=False)),\n",
    "    (\"scale\", StandardScaler()),\n",
    "    (\"enet\", ElasticNetCV(\n",
    "        l1_ratio=[0.1,0.25,0.3,0.5,0.7,0.75,0.9,0.95,1.0],\n",
    "        cv=10,\n",
    "        n_jobs=-1,\n",
    "        max_iter=10000,\n",
    "        tol=1e-4\n",
    "    ))\n",
    "])\n",
    "\n",
    "linear_regression_model2=TransformedTargetRegressor(\n",
    "    regressor=model,\n",
    "    func=np.log1p, # y -> log(1+y)\n",
    "    inverse_func=np.expm1 #backtransform\n",
    ")\n",
    "\n",
    "#fit\n",
    "linear_regression_model2.fit(x_train,y_train)\n",
    "\n",
    "#validation\n",
    "y_hat2 = linear_regression_model2.predict(test_features)\n",
    "print(\"R^2:\", r2_score(test_outcomes, y_hat2))\n",
    "print(\"MAE:\", mean_absolute_error(test_outcomes, y_hat2))\n",
    "\n",
    "y_pred2 = linear_regression_model2.predict(x_test)"
   ]
  },
  {
   "cell_type": "code",
   "execution_count": 11,
   "id": "b14eb163",
   "metadata": {},
   "outputs": [
    {
     "name": "stdout",
     "output_type": "stream",
     "text": [
      "Submission file successfully created!\n"
     ]
    }
   ],
   "source": [
    "#Submission for competition\n",
    "submission = pd.DataFrame({\n",
    "    'ID': medical_test_encoded['ID'],\n",
    "    'charges': y_pred2.astype(float)})\n",
    "submission.to_csv('submission2.csv', index=False)\n",
    "print(\"Submission file successfully created!\")"
   ]
  }
 ],
 "metadata": {
  "kernelspec": {
   "display_name": "ai_env",
   "language": "python",
   "name": "python3"
  },
  "language_info": {
   "codemirror_mode": {
    "name": "ipython",
    "version": 3
   },
   "file_extension": ".py",
   "mimetype": "text/x-python",
   "name": "python",
   "nbconvert_exporter": "python",
   "pygments_lexer": "ipython3",
   "version": "3.13.5"
  }
 },
 "nbformat": 4,
 "nbformat_minor": 5
}
